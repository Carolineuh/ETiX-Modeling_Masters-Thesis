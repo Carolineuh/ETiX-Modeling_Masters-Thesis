{
 "cells": [
  {
   "cell_type": "code",
   "execution_count": 1,
   "metadata": {},
   "outputs": [],
   "source": [
    "import h5py\n",
    "import napari\n",
    "import zarr\n",
    "from abbott.h5_files import *\n",
    "from pathlib import Path\n",
    "import imageio as io\n",
    "from pathlib import Path\n",
    "import pandas as pd\n",
    "from skimage.filters import gaussian"
   ]
  },
  {
   "cell_type": "code",
   "execution_count": 56,
   "metadata": {},
   "outputs": [],
   "source": [
    "\n",
    "fld = Path(r\"Q:\\carspi\\ETiX all sample 384 overview\")"
   ]
  },
  {
   "cell_type": "code",
   "execution_count": 74,
   "metadata": {},
   "outputs": [],
   "source": [
    "\n",
    "\n",
    "imgs = {}\n",
    "for fn in fld.glob(\"*.h5\"):\n",
    "\n",
    "    with h5py.File(fn) as f:\n",
    "         \n",
    "        bf=f['ch_00/2'][...]\n",
    "        #mask = f['/mask_cleanup_corrected/1'][...]\n",
    "        #gfp = f['ch_01/1'][...]\n",
    "        #mcherry = f['ch_02/1'][...]\n",
    "\n",
    "        \n",
    "        site = fn.stem\n",
    "        imgs[site] = bf\n"
   ]
  },
  {
   "cell_type": "code",
   "execution_count": 19,
   "metadata": {},
   "outputs": [],
   "source": [
    "imgs[site] =bf"
   ]
  },
  {
   "cell_type": "code",
   "execution_count": null,
   "metadata": {},
   "outputs": [],
   "source": [
    "#for bry signal ?\n",
    "\n",
    "bry=mcherry-gfp\n",
    "\n",
    "difference = gaussian(difference, sigma=2)\n",
    "binary = difference < 0.6\n"
   ]
  },
  {
   "cell_type": "code",
   "execution_count": 75,
   "metadata": {},
   "outputs": [],
   "source": [
    "# arrange embryos on 384 well grid\n",
    "\n",
    "import re\n",
    "\n",
    "pattern = re.compile(r'\\d{1,3}')\n",
    "sorted_imgs = sorted(imgs.keys(), key=lambda x: int(\"\".join(pattern.findall(x.split(\"_\")[1]))))\n",
    "\n",
    "order = pd.Series(data= np.arange(len(imgs.keys())), index= sorted_imgs)"
   ]
  },
  {
   "cell_type": "code",
   "execution_count": 21,
   "metadata": {},
   "outputs": [],
   "source": [
    "#only one timepoint\n",
    "\n",
    "from functools import partial\n",
    "from typing import Union, Any\n",
    "import numpy as np\n",
    "from tqdm import tqdm\n",
    "from numpy.typing import NDArray\n",
    "from itertools import product, repeat\n",
    "from typing import Callable\n",
    "import pandas as pd\n",
    "\n",
    "\n",
    "def rect_grid_384(sites: pd.Series, left_to_right=True, aspect_ratio=2) -> pd.DataFrame:\n",
    "    n = len(sites)\n",
    "    ny = 24\n",
    "    nx = 16\n",
    "    indices = np.array(list(product(np.arange(ny), np.arange(nx))))\n",
    "    if left_to_right:\n",
    "        indices = np.flip(indices, axis=1)\n",
    "    return pd.DataFrame(indices[:len(sites)], columns=['iy', 'ix'], index=sites.sort_values().index)\n",
    "\n",
    "def arrange_on_grid(raw_imgs: dict[str, NDArray],\n",
    "                    order: pd.Series,\n",
    "                    index_function: Callable[[pd.Series], pd.DataFrame] = rect_grid_384,\n",
    "                    margin_px: int = 10) -> NDArray:\n",
    "    embs = list(set(raw_imgs.keys()).intersection(set(order.index)))\n",
    "    order = order.loc[embs]\n",
    "    imgs = {k: v for k, v in raw_imgs.items() if k in embs}\n",
    "\n",
    "    dtype = imgs[list(imgs.keys())[0]].dtype\n",
    "    max_extent = np.array([img.shape for img in imgs.values()]).max(axis=0)\n",
    "\n",
    "    dy_site, dx_site = max_extent\n",
    "    dy_margin = dx_margin = margin_px\n",
    "\n",
    "    site_indices = index_function(order)\n",
    "\n",
    "    canvas_extent_yx = (site_indices.max().values + 1) * np.array(\n",
    "        [dy_site + dy_margin, dx_site + dx_margin]) - np.array([dy_margin, dx_margin])\n",
    "\n",
    "    canvas = np.zeros(canvas_extent_yx, dtype=dtype)\n",
    "    for site, index in site_indices.iterrows():\n",
    "        dy_current, dx_current = imgs[site].shape\n",
    "        dy, dx = index.values * np.array([dy_site + dy_margin, dx_site + dx_margin])\n",
    "        canvas[dy:dy + dy_current, dx:dx + dx_current] = imgs[site]\n",
    "\n",
    "    return canvas\n",
    "\n"
   ]
  },
  {
   "cell_type": "code",
   "execution_count": 76,
   "metadata": {},
   "outputs": [],
   "source": [
    "#timeline grid\n",
    "from functools import partial\n",
    "from typing import Union, Any\n",
    "import numpy as np\n",
    "from tqdm import tqdm\n",
    "from numpy.typing import NDArray\n",
    "from itertools import product, repeat\n",
    "from typing import Callable\n",
    "import pandas as pd\n",
    "\n",
    "\n",
    "def rect_grid_384(sites: pd.Series, left_to_right=True, aspect_ratio=2) -> pd.DataFrame:\n",
    "    n = len(sites)\n",
    "    ny = 24\n",
    "    nx = 16\n",
    "    indices = np.array(list(product(np.arange(ny), np.arange(nx))))\n",
    "    if left_to_right:\n",
    "        indices = np.flip(indices, axis=1)\n",
    "    return pd.DataFrame(indices[:len(sites)], columns=['iy', 'ix'], index=sites.sort_values().index)\n",
    "\n",
    "def arrange_on_grid(raw_imgs: dict[str, NDArray],\n",
    "                    order: pd.Series,\n",
    "                    index_function: Callable[[pd.Series], pd.DataFrame] = rect_grid_384,\n",
    "                    margin_px: int = 10) -> NDArray:\n",
    "    embs = list(set(raw_imgs.keys()).intersection(set(order.index)))\n",
    "    order = order.loc[embs]\n",
    "    imgs = {k: v for k, v in raw_imgs.items() if k in embs}\n",
    "\n",
    "    dtype = imgs[list(imgs.keys())[0]].dtype\n",
    "    max_extent = np.array([img.shape for img in imgs.values()]).max(axis=0)\n",
    "\n",
    "    dz_site, dy_site, dx_site = max_extent\n",
    "    dy_margin = dx_margin = margin_px\n",
    "\n",
    "    site_indices = index_function(order)\n",
    "\n",
    "    canvas_extent_yx = (site_indices.max().values + 1) * np.array(\n",
    "        [dy_site + dy_margin, dx_site + dx_margin]) - np.array([dy_margin, dx_margin])\n",
    "\n",
    "    canvas = np.zeros((dz_site, *canvas_extent_yx), dtype=dtype)\n",
    "    for site, index in site_indices.iterrows():\n",
    "        _, dy_current, dx_current = imgs[site].shape\n",
    "        dy, dx = index.values * np.array([dy_site + dy_margin, dx_site + dx_margin])\n",
    "        canvas[:, dy:dy + dy_current, dx:dx + dx_current] = imgs[site]\n",
    "\n",
    "    return canvas"
   ]
  },
  {
   "cell_type": "code",
   "execution_count": 77,
   "metadata": {},
   "outputs": [
    {
     "data": {
      "text/plain": [
       "<Image layer 'canvas' at 0x2099a217130>"
      ]
     },
     "execution_count": 77,
     "metadata": {},
     "output_type": "execute_result"
    }
   ],
   "source": [
    "canvas = arrange_on_grid(imgs, order)\n",
    "\n",
    "viewer = napari.Viewer()\n",
    "#viewer.add_labels(canvas)\n",
    "viewer.add_image(canvas)"
   ]
  },
  {
   "cell_type": "code",
   "execution_count": null,
   "metadata": {},
   "outputs": [],
   "source": []
  }
 ],
 "metadata": {
  "kernelspec": {
   "display_name": "abbott",
   "language": "python",
   "name": "python3"
  },
  "language_info": {
   "codemirror_mode": {
    "name": "ipython",
    "version": 3
   },
   "file_extension": ".py",
   "mimetype": "text/x-python",
   "name": "python",
   "nbconvert_exporter": "python",
   "pygments_lexer": "ipython3",
   "version": "3.10.10"
  },
  "orig_nbformat": 4
 },
 "nbformat": 4,
 "nbformat_minor": 2
}

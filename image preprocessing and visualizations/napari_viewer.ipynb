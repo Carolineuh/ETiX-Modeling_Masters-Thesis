{
 "cells": [
  {
   "cell_type": "code",
   "execution_count": 1,
   "metadata": {},
   "outputs": [],
   "source": [
    "import h5py\n",
    "import zarr\n",
    "import napari\n",
    "import numpy as np\n",
    "from abbott.h5_files import *\n",
    "from abbott.conversions import *\n",
    "from pathlib import Path\n",
    "import nest_asyncio\n",
    "from skimage.filters import gaussian\n",
    "nest_asyncio.apply()"
   ]
  },
  {
   "cell_type": "code",
   "execution_count": 2,
   "metadata": {},
   "outputs": [
    {
     "data": {
      "text/plain": [
       "<module 'napari' from 'c:\\\\Users\\\\carspi\\\\AppData\\\\Local\\\\miniconda3\\\\envs\\\\abbott\\\\lib\\\\site-packages\\\\napari\\\\__init__.py'>"
      ]
     },
     "execution_count": 2,
     "metadata": {},
     "output_type": "execute_result"
    }
   ],
   "source": [
    "napari"
   ]
  },
  {
   "cell_type": "code",
   "execution_count": 6,
   "metadata": {},
   "outputs": [
    {
     "data": {
      "text/plain": [
       "<Image layer 'farred' at 0x1ce04d262f0>"
      ]
     },
     "execution_count": 6,
     "metadata": {},
     "output_type": "execute_result"
    }
   ],
   "source": [
    "\n",
    "fn=Path(r\"Q:\\carspi\\Test\\ETiX_exp1_GT_IF1_s10.h5\")\n",
    "\n",
    "with h5py.File(fn) as f:\n",
    "    bf = f['ch_00'][...]\n",
    "    green = f['ch_01'][...]\n",
    "    red = f['ch_02'][...]\n",
    "    farred= f['ch_03'][...]\n",
    "\n",
    "viewer=napari.Viewer()\n",
    "viewer.add_image(bf)\n",
    "viewer.add_image(green)    \n",
    "viewer.add_image(red)\n",
    "viewer.add_image(farred)"
   ]
  },
  {
   "cell_type": "code",
   "execution_count": 11,
   "metadata": {},
   "outputs": [
    {
     "data": {
      "text/plain": [
       "<Labels layer 'mask' at 0x1ce25eaf010>"
      ]
     },
     "execution_count": 11,
     "metadata": {},
     "output_type": "execute_result"
    }
   ],
   "source": [
    "fn=Path(r\"Q:\\carspi\\ETiX-SBR-Cer1_exp1\\ETiX-Cer1-SBR1_s86.h5\")\n",
    "\n",
    "\n",
    "with h5py.File(fn) as f:\n",
    "    bf = f['ch_00/1'][...]\n",
    "    gfp = f['ch_01/1'][...]\n",
    "    rfp = f['ch_02/1'][...]\n",
    "    mask = f['mask_cleanup_corrected/1'][...]\n",
    "   \n",
    "viewer=napari.Viewer()\n",
    "viewer.add_image(bf)\n",
    "viewer.add_image(gfp)    \n",
    "viewer.add_image(rfp)\n",
    "viewer.add_labels(mask)"
   ]
  },
  {
   "cell_type": "code",
   "execution_count": 6,
   "metadata": {},
   "outputs": [
    {
     "data": {
      "text/plain": [
       "<Labels layer 'mask' at 0x26fb08f3cd0>"
      ]
     },
     "execution_count": 6,
     "metadata": {},
     "output_type": "execute_result"
    }
   ],
   "source": [
    "from skimage.measure import label\n",
    "\n",
    "fn=\"Q:\\carspi\\ETiX-SBR-Cer1_exp1\\ETiX-Cer1-SBR1_s75.h5\"\n",
    "with h5py.File(fn) as f:\n",
    "    bf = f['/ch_00/1'][...]\n",
    "    mask = f['/mask_cleanup_corrected/1'][...]\n",
    "    gfp = f['ch_01/1'][...]\n",
    "    mcherry = f['ch_02/1'][...]\n",
    "\n",
    "  \n",
    "viewer=napari.Viewer()\n",
    "viewer.add_image(bf)\n",
    "viewer.add_image(gfp)\n",
    "viewer.add_image(mcherry)\n",
    "viewer.add_labels(mask)\n"
   ]
  },
  {
   "cell_type": "code",
   "execution_count": 6,
   "metadata": {},
   "outputs": [
    {
     "ename": "ImportError",
     "evalue": "Failed to import viewer from napari. See cause above",
     "output_type": "error",
     "traceback": [
      "\u001b[1;31m---------------------------------------------------------------------------\u001b[0m",
      "\u001b[1;31mAttributeError\u001b[0m                            Traceback (most recent call last)",
      "File \u001b[1;32mc:\\Users\\carspi\\AppData\\Local\\miniconda3\\envs\\abbott\\lib\\site-packages\\napari\\_lazy.py:48\u001b[0m, in \u001b[0;36minstall_lazy.<locals>.__getattr__\u001b[1;34m(name)\u001b[0m\n\u001b[0;32m     47\u001b[0m \u001b[39mtry\u001b[39;00m:\n\u001b[1;32m---> 48\u001b[0m     submod \u001b[39m=\u001b[39m import_module(\n\u001b[0;32m     49\u001b[0m         \u001b[39mf\u001b[39;49m\u001b[39m'\u001b[39;49m\u001b[39m{\u001b[39;49;00mmodule_name\u001b[39m}\u001b[39;49;00m\u001b[39m.\u001b[39;49m\u001b[39m{\u001b[39;49;00mattr_to_modules[name]\u001b[39m}\u001b[39;49;00m\u001b[39m'\u001b[39;49m\n\u001b[0;32m     50\u001b[0m     )\n\u001b[0;32m     51\u001b[0m \u001b[39mexcept\u001b[39;00m \u001b[39mAttributeError\u001b[39;00m \u001b[39mas\u001b[39;00m er:\n\u001b[0;32m     52\u001b[0m     \u001b[39m# if we want any useful error message to show\u001b[39;00m\n\u001b[0;32m     53\u001b[0m     \u001b[39m# (besides just \"cannot import name...\") then we need raise anything\u001b[39;00m\n\u001b[0;32m     54\u001b[0m     \u001b[39m# BUT an attribute error here, because the __getattr__ protocol will\u001b[39;00m\n\u001b[0;32m     55\u001b[0m     \u001b[39m# swallow that error.\u001b[39;00m\n",
      "File \u001b[1;32mc:\\Users\\carspi\\AppData\\Local\\miniconda3\\envs\\abbott\\lib\\importlib\\__init__.py:126\u001b[0m, in \u001b[0;36mimport_module\u001b[1;34m(name, package)\u001b[0m\n\u001b[0;32m    125\u001b[0m         level \u001b[39m+\u001b[39m\u001b[39m=\u001b[39m \u001b[39m1\u001b[39m\n\u001b[1;32m--> 126\u001b[0m \u001b[39mreturn\u001b[39;00m _bootstrap\u001b[39m.\u001b[39;49m_gcd_import(name[level:], package, level)\n",
      "File \u001b[1;32m<frozen importlib._bootstrap>:1050\u001b[0m, in \u001b[0;36m_gcd_import\u001b[1;34m(name, package, level)\u001b[0m\n",
      "File \u001b[1;32m<frozen importlib._bootstrap>:1027\u001b[0m, in \u001b[0;36m_find_and_load\u001b[1;34m(name, import_)\u001b[0m\n",
      "File \u001b[1;32m<frozen importlib._bootstrap>:1006\u001b[0m, in \u001b[0;36m_find_and_load_unlocked\u001b[1;34m(name, import_)\u001b[0m\n",
      "File \u001b[1;32m<frozen importlib._bootstrap>:688\u001b[0m, in \u001b[0;36m_load_unlocked\u001b[1;34m(spec)\u001b[0m\n",
      "File \u001b[1;32m<frozen importlib._bootstrap_external>:883\u001b[0m, in \u001b[0;36mexec_module\u001b[1;34m(self, module)\u001b[0m\n",
      "File \u001b[1;32m<frozen importlib._bootstrap>:241\u001b[0m, in \u001b[0;36m_call_with_frames_removed\u001b[1;34m(f, *args, **kwds)\u001b[0m\n",
      "File \u001b[1;32mc:\\Users\\carspi\\AppData\\Local\\miniconda3\\envs\\abbott\\lib\\site-packages\\napari\\viewer.py:8\u001b[0m\n\u001b[0;32m      6\u001b[0m \u001b[39mimport\u001b[39;00m \u001b[39mmagicgui\u001b[39;00m \u001b[39mas\u001b[39;00m \u001b[39mmgui\u001b[39;00m\n\u001b[1;32m----> 8\u001b[0m \u001b[39mfrom\u001b[39;00m \u001b[39m.\u001b[39;00m\u001b[39mcomponents\u001b[39;00m\u001b[39m.\u001b[39;00m\u001b[39mviewer_model\u001b[39;00m \u001b[39mimport\u001b[39;00m ViewerModel\n\u001b[0;32m      9\u001b[0m \u001b[39mfrom\u001b[39;00m \u001b[39m.\u001b[39;00m\u001b[39mutils\u001b[39;00m \u001b[39mimport\u001b[39;00m _magicgui, config\n",
      "File \u001b[1;32mc:\\Users\\carspi\\AppData\\Local\\miniconda3\\envs\\abbott\\lib\\site-packages\\napari\\components\\__init__.py:17\u001b[0m\n\u001b[0;32m      1\u001b[0m \u001b[39m\"\"\"napari.components provides the public-facing models for widgets\u001b[39;00m\n\u001b[0;32m      2\u001b[0m \u001b[39mand other utilities that the user will be able to programmatically interact\u001b[39;00m\n\u001b[0;32m      3\u001b[0m \u001b[39mwith.\u001b[39;00m\n\u001b[1;32m   (...)\u001b[0m\n\u001b[0;32m     14\u001b[0m \u001b[39m    layer-related controls.\u001b[39;00m\n\u001b[0;32m     15\u001b[0m \u001b[39m\"\"\"\u001b[39;00m\n\u001b[1;32m---> 17\u001b[0m \u001b[39mfrom\u001b[39;00m \u001b[39m.\u001b[39;00m\u001b[39mcamera\u001b[39;00m \u001b[39mimport\u001b[39;00m Camera\n\u001b[0;32m     18\u001b[0m \u001b[39mfrom\u001b[39;00m \u001b[39m.\u001b[39;00m\u001b[39mdims\u001b[39;00m \u001b[39mimport\u001b[39;00m Dims\n",
      "File \u001b[1;32mc:\\Users\\carspi\\AppData\\Local\\miniconda3\\envs\\abbott\\lib\\site-packages\\napari\\components\\camera.py:7\u001b[0m\n\u001b[0;32m      5\u001b[0m \u001b[39mfrom\u001b[39;00m \u001b[39mscipy\u001b[39;00m\u001b[39m.\u001b[39;00m\u001b[39mspatial\u001b[39;00m\u001b[39m.\u001b[39;00m\u001b[39mtransform\u001b[39;00m \u001b[39mimport\u001b[39;00m Rotation \u001b[39mas\u001b[39;00m R\n\u001b[1;32m----> 7\u001b[0m \u001b[39mfrom\u001b[39;00m \u001b[39m.\u001b[39;00m\u001b[39m.\u001b[39;00m\u001b[39mutils\u001b[39;00m\u001b[39m.\u001b[39;00m\u001b[39mevents\u001b[39;00m \u001b[39mimport\u001b[39;00m EventedModel\n\u001b[0;32m      8\u001b[0m \u001b[39mfrom\u001b[39;00m \u001b[39m.\u001b[39;00m\u001b[39m.\u001b[39;00m\u001b[39mutils\u001b[39;00m\u001b[39m.\u001b[39;00m\u001b[39mmisc\u001b[39;00m \u001b[39mimport\u001b[39;00m ensure_n_tuple\n",
      "File \u001b[1;32mc:\\Users\\carspi\\AppData\\Local\\miniconda3\\envs\\abbott\\lib\\site-packages\\napari\\utils\\__init__.py:2\u001b[0m\n\u001b[0;32m      1\u001b[0m \u001b[39mfrom\u001b[39;00m \u001b[39m.\u001b[39;00m\u001b[39m_dask_utils\u001b[39;00m \u001b[39mimport\u001b[39;00m resize_dask_cache\n\u001b[1;32m----> 2\u001b[0m \u001b[39mfrom\u001b[39;00m \u001b[39m.\u001b[39;00m\u001b[39mcolormaps\u001b[39;00m \u001b[39mimport\u001b[39;00m Colormap\n\u001b[0;32m      3\u001b[0m \u001b[39mfrom\u001b[39;00m \u001b[39m.\u001b[39;00m\u001b[39minfo\u001b[39;00m \u001b[39mimport\u001b[39;00m citation_text, sys_info\n",
      "File \u001b[1;32mc:\\Users\\carspi\\AppData\\Local\\miniconda3\\envs\\abbott\\lib\\site-packages\\napari\\utils\\colormaps\\__init__.py:2\u001b[0m\n\u001b[0;32m      1\u001b[0m \u001b[39mfrom\u001b[39;00m \u001b[39m.\u001b[39;00m\u001b[39mcolorbars\u001b[39;00m \u001b[39mimport\u001b[39;00m make_colorbar\n\u001b[1;32m----> 2\u001b[0m \u001b[39mfrom\u001b[39;00m \u001b[39m.\u001b[39;00m\u001b[39mcolormap\u001b[39;00m \u001b[39mimport\u001b[39;00m Colormap\n\u001b[0;32m      3\u001b[0m \u001b[39mfrom\u001b[39;00m \u001b[39m.\u001b[39;00m\u001b[39mcolormap_utils\u001b[39;00m \u001b[39mimport\u001b[39;00m (\n\u001b[0;32m      4\u001b[0m     ALL_COLORMAPS,\n\u001b[0;32m      5\u001b[0m     AVAILABLE_COLORMAPS,\n\u001b[1;32m   (...)\u001b[0m\n\u001b[0;32m     17\u001b[0m     matplotlib_colormaps,\n\u001b[0;32m     18\u001b[0m )\n",
      "File \u001b[1;32mc:\\Users\\carspi\\AppData\\Local\\miniconda3\\envs\\abbott\\lib\\site-packages\\napari\\utils\\colormaps\\colormap.py:9\u001b[0m\n\u001b[0;32m      7\u001b[0m \u001b[39mfrom\u001b[39;00m \u001b[39mnapari\u001b[39;00m\u001b[39m.\u001b[39;00m\u001b[39mutils\u001b[39;00m\u001b[39m.\u001b[39;00m\u001b[39mcolor\u001b[39;00m \u001b[39mimport\u001b[39;00m ColorArray\n\u001b[1;32m----> 9\u001b[0m \u001b[39mfrom\u001b[39;00m \u001b[39m.\u001b[39;00m\u001b[39m.\u001b[39;00m\u001b[39mevents\u001b[39;00m \u001b[39mimport\u001b[39;00m EventedModel\n\u001b[0;32m     10\u001b[0m \u001b[39mfrom\u001b[39;00m \u001b[39m.\u001b[39;00m\u001b[39m.\u001b[39;00m\u001b[39mevents\u001b[39;00m\u001b[39m.\u001b[39;00m\u001b[39mcustom_types\u001b[39;00m \u001b[39mimport\u001b[39;00m Array\n",
      "File \u001b[1;32mc:\\Users\\carspi\\AppData\\Local\\miniconda3\\envs\\abbott\\lib\\site-packages\\napari\\utils\\events\\__init__.py:15\u001b[0m\n\u001b[0;32m     14\u001b[0m \u001b[39mfrom\u001b[39;00m \u001b[39m.\u001b[39;00m\u001b[39mevent_utils\u001b[39;00m \u001b[39mimport\u001b[39;00m disconnect_events\n\u001b[1;32m---> 15\u001b[0m \u001b[39mfrom\u001b[39;00m \u001b[39m.\u001b[39;00m\u001b[39mevented_model\u001b[39;00m \u001b[39mimport\u001b[39;00m EventedModel\n\u001b[0;32m     16\u001b[0m \u001b[39mfrom\u001b[39;00m \u001b[39m.\u001b[39;00m\u001b[39mtypes\u001b[39;00m \u001b[39mimport\u001b[39;00m SupportsEvents\n",
      "File \u001b[1;32mc:\\Users\\carspi\\AppData\\Local\\miniconda3\\envs\\abbott\\lib\\site-packages\\napari\\utils\\events\\evented_model.py:66\u001b[0m\n\u001b[0;32m     63\u001b[0m         main\u001b[39m.\u001b[39mClassAttribute \u001b[39m=\u001b[39m utils\u001b[39m.\u001b[39mClassAttribute\n\u001b[1;32m---> 66\u001b[0m \u001b[39mclass\u001b[39;00m \u001b[39mEventedMetaclass\u001b[39;00m(main\u001b[39m.\u001b[39;49mModelMetaclass):\n\u001b[0;32m     67\u001b[0m \u001b[39m    \u001b[39m\u001b[39m\"\"\"pydantic ModelMetaclass that preps \"equality checking\" operations.\u001b[39;00m\n\u001b[0;32m     68\u001b[0m \n\u001b[0;32m     69\u001b[0m \u001b[39m    A metaclass is the thing that \"constructs\" a class, and ``ModelMetaclass``\u001b[39;00m\n\u001b[1;32m   (...)\u001b[0m\n\u001b[0;32m     77\u001b[0m \u001b[39m    when each instance of an ``EventedModel`` is instantiated).\u001b[39;00m\n\u001b[0;32m     78\u001b[0m \u001b[39m    \"\"\"\u001b[39;00m\n",
      "File \u001b[1;32mc:\\Users\\carspi\\AppData\\Local\\miniconda3\\envs\\abbott\\lib\\site-packages\\pydantic\\_migration.py:304\u001b[0m, in \u001b[0;36mgetattr_migration.<locals>.wrapper\u001b[1;34m(name)\u001b[0m\n\u001b[0;32m    303\u001b[0m     \u001b[39mreturn\u001b[39;00m \u001b[39mglobals\u001b[39m[name]\n\u001b[1;32m--> 304\u001b[0m \u001b[39mraise\u001b[39;00m \u001b[39mAttributeError\u001b[39;00m(\u001b[39mf\u001b[39m\u001b[39m'\u001b[39m\u001b[39mmodule \u001b[39m\u001b[39m{\u001b[39;00m\u001b[39m__name__\u001b[39m\u001b[39m!r}\u001b[39;00m\u001b[39m has no attribute \u001b[39m\u001b[39m{\u001b[39;00mname\u001b[39m!r}\u001b[39;00m\u001b[39m'\u001b[39m)\n",
      "\u001b[1;31mAttributeError\u001b[0m: module 'pydantic._migration' has no attribute 'ModelMetaclass'",
      "\nThe above exception was the direct cause of the following exception:\n",
      "\u001b[1;31mImportError\u001b[0m                               Traceback (most recent call last)",
      "Cell \u001b[1;32mIn[6], line 11\u001b[0m\n\u001b[0;32m      8\u001b[0m \u001b[39mwith\u001b[39;00m h5py\u001b[39m.\u001b[39mFile(fn, \u001b[39m'\u001b[39m\u001b[39mr\u001b[39m\u001b[39m'\u001b[39m) \u001b[39mas\u001b[39;00m f:\n\u001b[0;32m      9\u001b[0m     bf \u001b[39m=\u001b[39m f[\u001b[39m'\u001b[39m\u001b[39mch_02/1\u001b[39m\u001b[39m'\u001b[39m][\u001b[39m.\u001b[39m\u001b[39m.\u001b[39m\u001b[39m.\u001b[39m]\n\u001b[1;32m---> 11\u001b[0m viewer \u001b[39m=\u001b[39m napari\u001b[39m.\u001b[39;49mViewer()\n\u001b[0;32m     12\u001b[0m brightfield \u001b[39m=\u001b[39m viewer\u001b[39m.\u001b[39madd_image(bf)\n",
      "File \u001b[1;32mc:\\Users\\carspi\\AppData\\Local\\miniconda3\\envs\\abbott\\lib\\site-packages\\napari\\_lazy.py:56\u001b[0m, in \u001b[0;36minstall_lazy.<locals>.__getattr__\u001b[1;34m(name)\u001b[0m\n\u001b[0;32m     48\u001b[0m     submod \u001b[39m=\u001b[39m import_module(\n\u001b[0;32m     49\u001b[0m         \u001b[39mf\u001b[39m\u001b[39m'\u001b[39m\u001b[39m{\u001b[39;00mmodule_name\u001b[39m}\u001b[39;00m\u001b[39m.\u001b[39m\u001b[39m{\u001b[39;00mattr_to_modules[name]\u001b[39m}\u001b[39;00m\u001b[39m'\u001b[39m\n\u001b[0;32m     50\u001b[0m     )\n\u001b[0;32m     51\u001b[0m \u001b[39mexcept\u001b[39;00m \u001b[39mAttributeError\u001b[39;00m \u001b[39mas\u001b[39;00m er:\n\u001b[0;32m     52\u001b[0m     \u001b[39m# if we want any useful error message to show\u001b[39;00m\n\u001b[0;32m     53\u001b[0m     \u001b[39m# (besides just \"cannot import name...\") then we need raise anything\u001b[39;00m\n\u001b[0;32m     54\u001b[0m     \u001b[39m# BUT an attribute error here, because the __getattr__ protocol will\u001b[39;00m\n\u001b[0;32m     55\u001b[0m     \u001b[39m# swallow that error.\u001b[39;00m\n\u001b[1;32m---> 56\u001b[0m     \u001b[39mraise\u001b[39;00m \u001b[39mImportError\u001b[39;00m(\n\u001b[0;32m     57\u001b[0m         \u001b[39mf\u001b[39m\u001b[39m'\u001b[39m\u001b[39mFailed to import \u001b[39m\u001b[39m{\u001b[39;00mattr_to_modules[name]\u001b[39m}\u001b[39;00m\u001b[39m from \u001b[39m\u001b[39m{\u001b[39;00mmodule_name\u001b[39m}\u001b[39;00m\u001b[39m. \u001b[39m\u001b[39m'\u001b[39m\n\u001b[0;32m     58\u001b[0m         \u001b[39m'\u001b[39m\u001b[39mSee cause above\u001b[39m\u001b[39m'\u001b[39m\n\u001b[0;32m     59\u001b[0m     ) \u001b[39mfrom\u001b[39;00m \u001b[39mer\u001b[39;00m\n\u001b[0;32m     60\u001b[0m \u001b[39m# this is where we allow an attribute error to be raised.\u001b[39;00m\n\u001b[0;32m     61\u001b[0m \u001b[39mreturn\u001b[39;00m \u001b[39mgetattr\u001b[39m(submod, name)\n",
      "\u001b[1;31mImportError\u001b[0m: Failed to import viewer from napari. See cause above"
     ]
    }
   ],
   "source": [
    "import h5py\n",
    "import napari\n",
    "from pathlib import Path\n",
    "\n",
    "fn = Path(r\"Q:\\carspi\\ETiX-SBR-Cer1_exp1\\ETiX-Cer1-SBR1_s4.h5\")\n",
    "\n",
    "\n",
    "with h5py.File(fn, 'r') as f:\n",
    "    bf = f['ch_02/1'][...]\n",
    "\n",
    "viewer = napari.Viewer()\n",
    "brightfield = viewer.add_image(bf)\n",
    "\n",
    "     \n"
   ]
  },
  {
   "cell_type": "code",
   "execution_count": 8,
   "metadata": {},
   "outputs": [
    {
     "name": "stdout",
     "output_type": "stream",
     "text": [
      "filename:\tETiX-Cer1-SBR1_s4.h5\n",
      "condition:\tNA\n",
      "\n",
      "                     name          shape  dtype   size   element_size_um  img_type       stain cycle wavelength level\n",
      "                 /ch_00/1 (23, 512, 512) uint16  12.06   [3.0, 2.6, 2.6] intensity brightfield     0         NA     1\n",
      "                 /ch_00/2 (23, 256, 256) uint16   3.01   [3.0, 5.2, 5.2] intensity brightfield     0         NA     2\n",
      "                 /ch_00/3 (23, 128, 128) uint16   0.75 [3.0, 10.4, 10.4] intensity brightfield     0         NA     3\n",
      "                 /ch_01/1 (23, 512, 512) uint16  12.06   [3.0, 2.6, 2.6] intensity   Sox1_Cer1     0        488     1\n",
      "                 /ch_01/2 (23, 256, 256) uint16   3.01   [3.0, 5.2, 5.2] intensity   Sox1_Cer1     0        488     2\n",
      "                 /ch_01/3 (23, 128, 128) uint16   0.75 [3.0, 10.4, 10.4] intensity   Sox1_Cer1     0        488     3\n",
      "                 /ch_02/1 (23, 512, 512) uint16  12.06   [3.0, 2.6, 2.6] intensity         Bry     0        561     1\n",
      "                 /ch_02/2 (23, 256, 256) uint16   3.01   [3.0, 5.2, 5.2] intensity         Bry     0        561     2\n",
      "                 /ch_02/3 (23, 128, 128) uint16   0.75 [3.0, 10.4, 10.4] intensity         Bry     0        561     3\n",
      "           /embryo_mask/1 (23, 512, 512)  uint8   6.03   [3.0, 2.6, 2.6]     label      embryo     0         NA     1\n",
      "           /embryo_mask/2 (23, 256, 256)  uint8   1.51   [3.0, 5.2, 5.2]     label      embryo     0         NA     2\n",
      "           /embryo_mask/3 (23, 128, 128)  uint8   0.38 [3.0, 10.4, 10.4]     label      embryo     0         NA     3\n",
      "/mask_cleanup_corrected/1 (23, 512, 512)  uint8   6.03   [3.0, 2.6, 2.6]     label      embryo     0         NA     1\n",
      "/mask_cleanup_corrected/2 (23, 256, 256)  uint8   1.51   [3.0, 5.2, 5.2]     label      embryo     0         NA     2\n",
      "/mask_cleanup_corrected/3 (23, 128, 128)  uint8   0.38 [3.0, 10.4, 10.4]     label      embryo     0         NA     3\n",
      "         /mask_filtered/1 (23, 512, 512)  uint8   6.03   [3.0, 2.6, 2.6]     label      embryo     0         NA     1\n",
      "         /mask_filtered/2 (23, 256, 256)  uint8   1.51   [3.0, 5.2, 5.2]     label      embryo     0         NA     2\n",
      "         /mask_filtered/3 (23, 128, 128)  uint8   0.38 [3.0, 10.4, 10.4]     label      embryo     0         NA     3\n",
      "\n",
      "\n"
     ]
    }
   ],
   "source": [
    "from abbott.h5_files import h5_summary\n",
    "print(h5_summary(\"Q:\\carspi\\ETiX-SBR-Cer1_exp1\\ETiX-Cer1-SBR1_s4.h5\"))"
   ]
  },
  {
   "cell_type": "code",
   "execution_count": 16,
   "metadata": {},
   "outputs": [
    {
     "ename": "ModuleNotFoundError",
     "evalue": "No module named 'BiocManager'",
     "output_type": "error",
     "traceback": [
      "\u001b[1;31m---------------------------------------------------------------------------\u001b[0m",
      "\u001b[1;31mModuleNotFoundError\u001b[0m                       Traceback (most recent call last)",
      "Cell \u001b[1;32mIn[16], line 1\u001b[0m\n\u001b[1;32m----> 1\u001b[0m \u001b[39mfrom\u001b[39;00m \u001b[39mBiocManager\u001b[39;00m \u001b[39mimport\u001b[39;00m Rarr\n\u001b[0;32m      2\u001b[0m zarr_overview(\u001b[39m\"\u001b[39m\u001b[39mQ:\u001b[39m\u001b[39m\\\u001b[39m\u001b[39mcarspi\u001b[39m\u001b[39m\\202\u001b[39;00m\u001b[39m30811_ETiX_exp1_GT_IF_compressed\u001b[39m\u001b[39m\\\u001b[39m\u001b[39mETiX_exp1_GT_IF1_s10.zarr\u001b[39m\u001b[39m\"\u001b[39m)\n",
      "\u001b[1;31mModuleNotFoundError\u001b[0m: No module named 'BiocManager'"
     ]
    }
   ],
   "source": [
    "from BiocManager import Rarr\n",
    "zarr_overview(\"Q:\\carspi\\20230811_ETiX_exp1_GT_IF_compressed\\ETiX_exp1_GT_IF1_s10.zarr\")"
   ]
  }
 ],
 "metadata": {
  "kernelspec": {
   "display_name": "Python 3",
   "language": "python",
   "name": "python3"
  },
  "language_info": {
   "codemirror_mode": {
    "name": "ipython",
    "version": 3
   },
   "file_extension": ".py",
   "mimetype": "text/x-python",
   "name": "python",
   "nbconvert_exporter": "python",
   "pygments_lexer": "ipython3",
   "version": "3.10.10"
  },
  "orig_nbformat": 4
 },
 "nbformat": 4,
 "nbformat_minor": 2
}

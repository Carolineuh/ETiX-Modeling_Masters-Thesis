{
 "cells": [
  {
   "cell_type": "code",
   "execution_count": 1,
   "metadata": {},
   "outputs": [],
   "source": [
    "import h5py\n",
    "import zarr\n",
    "import sys\n",
    "import napari\n",
    "from abbott.h5_files import *\n",
    "from abbott.conversions import *\n",
    "from pathlib import Path\n",
    "import nest_asyncio\n",
    "nest_asyncio.apply()"
   ]
  },
  {
   "cell_type": "code",
   "execution_count": 8,
   "metadata": {},
   "outputs": [
    {
     "name": "stdout",
     "output_type": "stream",
     "text": [
      "processing ETiX_exp1_GT_IF1_s1.zarr...\n",
      "processing ETiX_exp1_GT_IF1_s10.zarr...\n",
      "processing ETiX_exp1_GT_IF1_s11.zarr...\n",
      "processing ETiX_exp1_GT_IF1_s12.zarr...\n",
      "processing ETiX_exp1_GT_IF1_s2.zarr...\n"
     ]
    }
   ],
   "source": [
    "# convert zarr timelapse to h5 max projection \n",
    "\n",
    "fld = Path(r\"Q:\\carspi\\Test\")\n",
    "\n",
    "out_fld = Path(r\"Q:\\carspi\\Test\") # change path to your share\n",
    "\n",
    "\n",
    "def convert_zarr_to_h5(fld, out_fld, level):\n",
    "    \"\"\"\n",
    "    Generate maximum projection h5 files from a folder containing timelapse zarr files. \n",
    "    \n",
    "    parameters\n",
    "    ----------\n",
    "    fld: str or pathlib.Path\n",
    "        folder containing your input data.\n",
    "    out_fld: str or pathlib.Path\n",
    "        folder where processed data will be saved \n",
    "    level: int\n",
    "        downsampling level that should be used.\n",
    "    \"\"\"\n",
    "    \n",
    "    for fn in list(fld.glob('*.zarr')):\n",
    "        print(\"processing {}...\".format(fn.name))\n",
    "        write_h5_file(fn, out_fld, level)\n",
    "\n",
    "def write_h5_file(fn, out_fld, level):\n",
    "    output_fn = out_fld / (fn.stem + '.h5') \n",
    "    output_fn.parent.mkdir(exist_ok=True, parents=True)\n",
    "    f = zarr.open(fn, mode='r')\n",
    "    fn_in= f[level][...] # we make max intensity projections on same level as model was trained on\n",
    "\n",
    "    dsets = {}\n",
    "    for idx, f in enumerate(np.rollaxis(fn_in, 1)):\n",
    "        dset = []\n",
    "        for tp in f:\n",
    "            dset.append(np.max(tp, axis=0)) # convert stack to max projection\n",
    "        dsets[f\"ch_0{idx}\"] = dset\n",
    "\n",
    "    with h5py.File(output_fn, 'a') as f_out: # write to new h5 file\n",
    "        for k,v in dsets.items():\n",
    "            f_out.create_dataset(k, data=v)\n",
    "            dset = f_out[k]\n",
    "            dset.attrs['element_size_um'] = [3, 2.6, 2.6] # pixel size of z, y, x\n",
    "\n",
    "\n",
    "\n",
    "\n",
    "\n",
    "convert_zarr_to_h5(fld, out_fld, 2)"
   ]
  }
 ],
 "metadata": {
  "kernelspec": {
   "display_name": "abbott",
   "language": "python",
   "name": "python3"
  },
  "language_info": {
   "codemirror_mode": {
    "name": "ipython",
    "version": 3
   },
   "file_extension": ".py",
   "mimetype": "text/x-python",
   "name": "python",
   "nbconvert_exporter": "python",
   "pygments_lexer": "ipython3",
   "version": "3.10.10"
  },
  "orig_nbformat": 4
 },
 "nbformat": 4,
 "nbformat_minor": 2
}
